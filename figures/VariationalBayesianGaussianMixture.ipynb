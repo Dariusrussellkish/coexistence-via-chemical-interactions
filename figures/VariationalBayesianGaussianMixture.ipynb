{
 "cells": [
  {
   "cell_type": "code",
   "execution_count": 5,
   "metadata": {},
   "outputs": [],
   "source": [
    "import numpy as np\n",
    "from scipy import stats\n",
    "import matplotlib.pyplot as plt\n",
    "from mpl_toolkits.mplot3d import Axes3D\n",
    "import pymc3 as pm\n",
    "from theano import tensor as tt"
   ]
  },
  {
   "cell_type": "code",
   "execution_count": 25,
   "metadata": {},
   "outputs": [
    {
     "data": {
      "text/plain": [
       "(20, 10000)"
      ]
     },
     "execution_count": 25,
     "metadata": {},
     "output_type": "execute_result"
    }
   ],
   "source": [
    "with open(\"CMPs.csv\", 'r') as fh:\n",
    "    cmps = np.loadtxt(fh, delimiter=',')\n",
    "np.shape(cmps)"
   ]
  },
  {
   "cell_type": "code",
   "execution_count": 21,
   "metadata": {},
   "outputs": [
    {
     "name": "stderr",
     "output_type": "stream",
     "text": [
      "INFO (theano.gof.compilelock): Refreshing lock /Users/darius/.theano/compiledir_Darwin-19.4.0-x86_64-i386-64bit-i386-3.7.7-64/lock_dir/lock\n"
     ]
    }
   ],
   "source": [
    "def stick_breaking(beta):\n",
    "    portion_remaining = tt.concatenate([[1], tt.extra_ops.cumprod(1 - beta)[:-1]])\n",
    "    return beta * portion_remaining\n",
    "k = 20\n",
    "m = pm.Model()\n",
    "with m:\n",
    "    alpha = pm.Gamma('alpha', 1, 1)\n",
    "    beta = pm.Beta('beta', 1, alpha, shape=k)\n",
    "    pi = pm.Deterministic('pi', stick_breaking(beta))\n",
    "\n",
    "    tau = pm.Gamma('tau', 1, 1, shape=k) \n",
    "    lambda_ = pm.Uniform('lambda', 0, 1, shape=k)\n",
    "    mu0 = pm.Uniform('mu0', -3, 3, shape=k)\n",
    "    \n",
    "    mu = pm.Normal('mu', mu=mu0, tau=1, shape=k)\n",
    "    obs = pm.NormalMixture('obs', w=pi, mu=mu, tau=lambda_ * tau, observed=cmps.T)"
   ]
  },
  {
   "cell_type": "code",
   "execution_count": 26,
   "metadata": {},
   "outputs": [
    {
     "name": "stderr",
     "output_type": "stream",
     "text": [
      "Auto-assigning NUTS sampler...\n",
      "Initializing NUTS using advi...\n",
      "Average Loss = -28,354:  27%|██▋       | 54999/200000 [07:41<20:16, 119.17it/s] \n",
      "Convergence achieved at 55000\n",
      "Interrupted at 54,999 [27%]: Average Loss = -17,703\n",
      "Multiprocess sampling (2 chains in 2 jobs)\n",
      "NUTS: [mu, mu0, lambda, tau, beta, alpha]\n",
      "Sampling 2 chains, 1,854 divergences: 100%|██████████| 8000/8000 [14:05<00:00,  9.46draws/s]\n",
      "INFO (theano.gof.compilelock): Refreshing lock /Users/darius/.theano/compiledir_Darwin-19.4.0-x86_64-i386-64bit-i386-3.7.7-64/lock_dir/lock\n",
      "There were 891 divergences after tuning. Increase `target_accept` or reparameterize.\n",
      "There were 963 divergences after tuning. Increase `target_accept` or reparameterize.\n",
      "The number of effective samples is smaller than 25% for some parameters.\n"
     ]
    }
   ],
   "source": [
    "with m: \n",
    "    trace = pm.sample(2000, tune=2000, init='advi', random_seed=35171)"
   ]
  },
  {
   "cell_type": "code",
   "execution_count": 27,
   "metadata": {},
   "outputs": [
    {
     "data": {
      "image/png": "[encoded data removed]",
      "text/plain": [
       "<Figure size 864x432 with 1 Axes>"
      ]
     },
     "metadata": {
      "needs_background": "light"
     },
     "output_type": "display_data"
    }
   ],
   "source": [
    "plt.figure(figsize=(12, 6))\n",
    "plt.title(r\"Distribution of $\\pi'$\")\n",
    "plt.bar(np.arange(k) + 1 - 0.5, trace['pi'].mean(axis=0), width=1., lw=0);\n",
    "plt.xlim(0.5, k);\n",
    "plt.xlabel('Component');\n",
    "plt.ylabel('Posterior expected mixture weight');"
   ]
  },
  {
   "cell_type": "code",
   "execution_count": 47,
   "metadata": {},
   "outputs": [
    {
     "data": {
      "text/plain": [
       "55.96753599494305"
      ]
     },
     "execution_count": 47,
     "metadata": {},
     "output_type": "execute_result"
    }
   ],
   "source": [
    "final = np.zeros(np.shape(cmps))\n",
    "def hellinger3(p, q):\n",
    "    _SQRT2 = np.sqrt(2) \n",
    "    return np.sqrt(np.sum((np.sqrt(p) - np.sqrt(q)) ** 2)) / _SQRT2"
   ]
  },
  {
   "cell_type": "code",
   "execution_count": 91,
   "metadata": {},
   "outputs": [
    {
     "data": {
      "text/plain": [
       "(array([-1,  0]), array([  44, 9956]))"
      ]
     },
     "execution_count": 91,
     "metadata": {},
     "output_type": "execute_result"
    }
   ],
   "source": [
    "from sklearn.cluster import DBSCAN\n",
    "from scipy.spatial.distance import *\n",
    "fn = braycurtis\n",
    "final = np.zeros((1000, 1000))\n",
    "for i, v1 in enumerate(cmps.T[0:1000,:]):\n",
    "    for j, v2 in enumerate(cmps.T[0:1000,:]):\n",
    "        final[i,j] = fn(v1, v2)\n",
    "clustering = DBSCAN(eps=0.01, min_samples=np.shape(cmps)[1] / 100).fit(cmps.T)\n",
    "np.unique(clustering.labels_, return_counts=True)"
   ]
  },
  {
   "cell_type": "code",
   "execution_count": 96,
   "metadata": {},
   "outputs": [
    {
     "data": {
      "text/plain": [
       "0.0001086733747350634"
      ]
     },
     "execution_count": 96,
     "metadata": {},
     "output_type": "execute_result"
    },
    {
     "data": {
      "image/png": "[encoded data removed]",
      "text/plain": [
       "<Figure size 432x288 with 1 Axes>"
      ]
     },
     "metadata": {
      "needs_background": "light"
     },
     "output_type": "display_data"
    }
   ],
   "source": [
    "plt.imshow(final)\n",
    "np.median(final)"
   ]
  },
  {
   "cell_type": "code",
   "execution_count": null,
   "metadata": {},
   "outputs": [],
   "source": []
  }
 ],
 "metadata": {
  "kernelspec": {
   "display_name": "WellMixedCoexistence",
   "language": "python",
   "name": "wellmixedcoexistence"
  },
  "language_info": {
   "codemirror_mode": {
    "name": "ipython",
    "version": 3
   },
   "file_extension": ".py",
   "mimetype": "text/x-python",
   "name": "python",
   "nbconvert_exporter": "python",
   "pygments_lexer": "ipython3",
   "version": "3.7.7"
  }
 },
 "nbformat": 4,
 "nbformat_minor": 4
}
